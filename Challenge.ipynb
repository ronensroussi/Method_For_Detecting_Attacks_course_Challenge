{
  "nbformat": 4,
  "nbformat_minor": 0,
  "metadata": {
    "colab": {
      "name": "Challenge2.ipynb",
      "provenance": [],
      "collapsed_sections": [],
      "toc_visible": true
    },
    "kernelspec": {
      "name": "python3",
      "display_name": "Python 3"
    }
  },
  "cells": [
    {
      "cell_type": "markdown",
      "metadata": {
        "id": "cqRR10umW5RS",
        "colab_type": "text"
      },
      "source": [
        "# Mount Drive"
      ]
    },
    {
      "cell_type": "code",
      "metadata": {
        "id": "5CHYjI1VWxFr",
        "colab_type": "code",
        "colab": {
          "base_uri": "https://localhost:8080/",
          "height": 34
        },
        "outputId": "c085c79e-2ed9-41e6-d0a8-d93a36e99308"
      },
      "source": [
        "from google.colab import drive\n",
        "drive.mount('/content/drive')"
      ],
      "execution_count": null,
      "outputs": [
        {
          "output_type": "stream",
          "text": [
            "Drive already mounted at /content/drive; to attempt to forcibly remount, call drive.mount(\"/content/drive\", force_remount=True).\n"
          ],
          "name": "stdout"
        }
      ]
    },
    {
      "cell_type": "markdown",
      "metadata": {
        "id": "U8rpFcj9W-tD",
        "colab_type": "text"
      },
      "source": [
        "# Imports\n"
      ]
    },
    {
      "cell_type": "code",
      "metadata": {
        "id": "J0K8TpPxW3qL",
        "colab_type": "code",
        "colab": {}
      },
      "source": [
        "import os\n",
        "import pandas as pd\n",
        "import numpy as np\n",
        "import time\n",
        "import matplotlib.pyplot as plt\n",
        "import statistics\n",
        "from collections import Counter\n",
        "import nltk\n",
        "\n",
        "from sklearn.preprocessing import StandardScaler, MinMaxScaler\n",
        "from sklearn.model_selection import train_test_split, GridSearchCV\n",
        "\n",
        "from sklearn.neural_network import MLPClassifier\n",
        "from sklearn.tree import DecisionTreeClassifier\n",
        "from sklearn.neighbors import KNeighborsClassifier, NearestCentroid"
      ],
      "execution_count": null,
      "outputs": []
    },
    {
      "cell_type": "markdown",
      "metadata": {
        "id": "B-VIORdnS2Xj",
        "colab_type": "text"
      },
      "source": [
        "# Constants"
      ]
    },
    {
      "cell_type": "code",
      "metadata": {
        "id": "66cf5EsTXIS8",
        "colab_type": "code",
        "colab": {}
      },
      "source": [
        "SAVED_MODEL_PATH = '/content/drive/Shared drives/Methods for Detecting Attacks/'\n",
        "DATA_PATH = '/content/drive/Shared drives/Methods for Detecting Attacks/FraudedRawData'\n",
        "NUM_OF_TRAIN_SEQUENCE_PER_USER = 50\n",
        "NUM_OF_TEST_SEQUENCE_PER_USER = 100\n",
        "WORDS_PER_SEQUENCE = 100\n",
        "NUM_USERS = 40"
      ],
      "execution_count": null,
      "outputs": []
    },
    {
      "cell_type": "markdown",
      "metadata": {
        "id": "YcKHDzbHS5Yc",
        "colab_type": "text"
      },
      "source": [
        "# Load Data"
      ]
    },
    {
      "cell_type": "code",
      "metadata": {
        "id": "D_fHRqNJXJFy",
        "colab_type": "code",
        "colab": {}
      },
      "source": [
        "# returns a set that contains all the words in the corpus\n",
        "def get_vocab():\n",
        "  vocab = set()\n",
        "  for i in range(NUM_USERS):\n",
        "    file_path = os.path.join(DATA_PATH,'User' + str(i))\n",
        "    with open(file_path,'r') as file:\n",
        "      vocab.update(file.read().splitlines())\n",
        "\n",
        "  return vocab\n",
        "\n",
        "# creates dicts mapping from word to index and from index to word\n",
        "def create_index_dicts(vocab):\n",
        "  i = 1\n",
        "  words_to_index = {}\n",
        "  index_to_words = {}\n",
        "  for w in sorted(vocab):\n",
        "      words_to_index[w] = i\n",
        "      index_to_words[i] = w\n",
        "      i = i + 1\n",
        "  return words_to_index, index_to_words\n",
        "\n",
        "# returns user's sequence with int embeddings\n",
        "def get_user_sequence(user_num, type):\n",
        "  file_path = os.path.join(DATA_PATH,'User' + str(user_num))\n",
        "  user_seqs = []\n",
        "  with open(file_path, 'r') as file:\n",
        "    for i in range(NUM_OF_TRAIN_SEQUENCE_PER_USER + NUM_OF_TEST_SEQUENCE_PER_USER):\n",
        "      if type == 'int':\n",
        "        user_seq = [words_to_index[file.readline().rstrip()] for i in range(WORDS_PER_SEQUENCE)]\n",
        "      elif type == 'str':\n",
        "        user_seq = [file.readline().rstrip() for i in range(WORDS_PER_SEQUENCE)]\n",
        "      user_seqs.append(user_seq)\n",
        "  return user_seqs"
      ],
      "execution_count": null,
      "outputs": []
    },
    {
      "cell_type": "code",
      "metadata": {
        "id": "4dXrvJ8HXPD9",
        "colab_type": "code",
        "colab": {}
      },
      "source": [
        "vocab = get_vocab()\n",
        "words_to_index, index_to_words = create_index_dicts(vocab)\n",
        "user_seqs_ints = [get_user_sequence(i,'int') for i in range(NUM_USERS)] # load entire corpus\n",
        "user_seqs_strs = [get_user_sequence(i,'str') for i in range(NUM_USERS)]"
      ],
      "execution_count": null,
      "outputs": []
    },
    {
      "cell_type": "markdown",
      "metadata": {
        "id": "gGCOL5U7XSmE",
        "colab_type": "text"
      },
      "source": [
        "# Create Data Frames"
      ]
    },
    {
      "cell_type": "code",
      "metadata": {
        "id": "L6TyV7M1XPfk",
        "colab_type": "code",
        "colab": {}
      },
      "source": [
        "full_df_ints = pd.DataFrame(user_seqs_ints) # convert corpus to dataframe\n",
        "train_df_ints = full_df_ints.loc[:, :NUM_OF_TRAIN_SEQUENCE_PER_USER-1]  # [40 users, 50 training segments]\n",
        "val_df_ints = full_df_ints.loc[:9,NUM_OF_TRAIN_SEQUENCE_PER_USER:]  # [10 users, 100 validation segments]\n",
        "test_df_ints = full_df_ints.loc[10:,NUM_OF_TRAIN_SEQUENCE_PER_USER:]  # [30 users, 100 test segments]"
      ],
      "execution_count": null,
      "outputs": []
    },
    {
      "cell_type": "code",
      "metadata": {
        "id": "IjbIJjlJYa7O",
        "colab_type": "code",
        "colab": {}
      },
      "source": [
        "full_df_strings = pd.DataFrame(user_seqs_strs) # convert corpus to dataframe\n",
        "train_df_strings = full_df_strings.loc[:, :NUM_OF_TRAIN_SEQUENCE_PER_USER-1]  # [40 users, 50 training segments]\n",
        "val_df_strings = full_df_strings.loc[:9,NUM_OF_TRAIN_SEQUENCE_PER_USER:]  # [10 users, 100 validation segments]\n",
        "test_df_strings = full_df_strings.loc[10:,NUM_OF_TRAIN_SEQUENCE_PER_USER:]  # [30 users, 100 test segments]"
      ],
      "execution_count": null,
      "outputs": []
    },
    {
      "cell_type": "code",
      "metadata": {
        "id": "iegI04ZyXln-",
        "colab_type": "code",
        "colab": {}
      },
      "source": [
        "train_df = pd.DataFrame({'data_int':train_df_ints.to_numpy().flatten(),'data_string':train_df_strings.to_numpy().flatten()})\n",
        "val_df = pd.DataFrame({'data_int':val_df_ints.to_numpy().flatten(),'data_string':val_df_strings.to_numpy().flatten()})\n",
        "test_df = pd.DataFrame({'data_int':test_df_ints.to_numpy().flatten(),'data_string':test_df_strings.to_numpy().flatten()})"
      ],
      "execution_count": null,
      "outputs": []
    },
    {
      "cell_type": "markdown",
      "metadata": {
        "id": "CnwKCXddXWbw",
        "colab_type": "text"
      },
      "source": [
        "# Feature Extraction"
      ]
    },
    {
      "cell_type": "code",
      "metadata": {
        "id": "KKKLCIwYXf_E",
        "colab_type": "code",
        "colab": {}
      },
      "source": [
        "def get_most_common(df):\n",
        "  df['most_common'] = pd.DataFrame(df['data_int'].values.tolist()).mode(1)[0].astype(int)\n",
        "\n",
        "def get_rarest(df):\n",
        "  rear_list = []\n",
        "  for i in df.index:\n",
        "    rear_list.append(pd.Series(df['data_int'].values.tolist()[i]).value_counts().index[-1])\n",
        "  df['rarest'] = rear_list\n",
        "\n",
        "def get_most_common_count(df):\n",
        "  rear_list = []\n",
        "  for i in df.index:\n",
        "    rear_list.append(pd.Series(df['data_int'].values.tolist()[i]).value_counts().values[0])\n",
        "  df['most_common_count'] = rear_list\n",
        "\n",
        "def get_unique_count(df):\n",
        "  df1 = pd.DataFrame(df['data_int'].values.tolist())\n",
        "  df['unique_count'] =  [len(set(v[pd.notna(v)].tolist())) for v in df1.values]\n",
        "\n",
        "def create_ngrams_feature(df, num_ngrams):\n",
        "  def get_ones_in_val():\n",
        "    val_col_indexes = np.arange(NUM_OF_TRAIN_SEQUENCE_PER_USER + 1,\n",
        "                                NUM_OF_TRAIN_SEQUENCE_PER_USER + 1 + NUM_OF_TEST_SEQUENCE_PER_USER)\n",
        "    val_df_true = pd.read_csv('/content/drive/Shared drives/Methods for Detecting Attacks/challengeToFill.csv', usecols=val_col_indexes)\n",
        "    val_df_true = val_df_true.loc[:9, :].astype(int)\n",
        "    val_flatten = pd.DataFrame(val_df_true.to_numpy().flatten(), columns=['data'])\n",
        "    anomaly_indices = val_flatten.index[val_flatten['data'] == 1]\n",
        "    row_index = (anomaly_indices / 100).astype(int)\n",
        "    col_index = (anomaly_indices % 100) + 50\n",
        "    return row_index, col_index\n",
        "\n",
        "  def extract_ngrams_ones(ngram_size, row_index, col_index):\n",
        "    user_seqs = set()\n",
        "    for user_num in range(NUM_USERS):\n",
        "      file_path = os.path.join(DATA_PATH, 'User' + str(user_num))\n",
        "      with open(file_path, 'r') as file:\n",
        "        for i in range(NUM_OF_TEST_SEQUENCE_PER_USER):\n",
        "          user_seq = [next(file).rstrip() for _ in range(WORDS_PER_SEQUENCE)]\n",
        "          for x in range(len(row_index)):\n",
        "            if user_num == row_index[x] and i == col_index[x]:\n",
        "              n_grams = nltk.ngrams(user_seq, ngram_size)\n",
        "              for n_gram in n_grams:\n",
        "                user_seqs.add(n_gram)\n",
        "    return user_seqs\n",
        "\n",
        "  def x_in_y(ngram, sequences):\n",
        "    result = []\n",
        "    l = len(ngram)\n",
        "    for sequence in sequences:\n",
        "      count = 0\n",
        "      for i in range(len(sequence)-l):\n",
        "        if sequence[i:i + l] == ngram:\n",
        "          count+=1\n",
        "      result.append(count)\n",
        "    return result\n",
        "\n",
        "  if num_ngrams <= 2:\n",
        "    row_index = np.concatenate([np.repeat(x, 150) for x in range(40)]).ravel().tolist()\n",
        "    col_index = np.concatenate([[x for x in range(150)] for y in range(40)]).ravel().tolist()\n",
        "  else:\n",
        "    row_index, col_index = get_ones_in_val()\n",
        "\n",
        "  ngram_set = extract_ngrams_ones(num_ngrams, row_index, col_index)\n",
        "  \n",
        "  for ngram in ngram_set:\n",
        "    df['ngram'+str(ngram)] = pd.DataFrame(x_in_y(list(ngram), df['data_string'].values))\n",
        "\n",
        "def get_longest_command(df):\n",
        "  df['longest_command'] = [words_to_index[max(arr, key=len)] for arr in df['data_string'].values.tolist()]\n",
        "\n",
        "def get_longest_command_length(df):\n",
        "  df['longest_command_length'] = [len(max(arr, key=len)) for arr in df['data_string'].values.tolist()]\n",
        "\n",
        "def command_exists(df, command):\n",
        "  l = []\n",
        "  for i in df.index:\n",
        "      if command in pd.Series(df['data_string'].values.tolist()[i]).value_counts().keys():\n",
        "          l.append(1)\n",
        "      else:\n",
        "          l.append(0)\n",
        "  df[command+'_exists'] = l"
      ],
      "execution_count": null,
      "outputs": []
    },
    {
      "cell_type": "code",
      "metadata": {
        "id": "o663iiTVXiwa",
        "colab_type": "code",
        "colab": {}
      },
      "source": [
        "for df in [train_df, val_df, test_df]:\n",
        "  get_most_common(df)\n",
        "  get_most_common_count(df)\n",
        "  get_rarest(df)\n",
        "  get_unique_count(df)\n",
        "  get_longest_command(df)\n",
        "  get_longest_command_length(df)\n",
        "  create_ngrams_feature(df, num_ngrams=3)\n",
        "  create_ngrams_feature(df, num_ngrams=2)\n",
        "  create_ngrams_feature(df, num_ngrams=1)"
      ],
      "execution_count": null,
      "outputs": []
    },
    {
      "cell_type": "code",
      "metadata": {
        "id": "nlzeG8v-NSt2",
        "colab_type": "code",
        "colab": {}
      },
      "source": [
        "train_df = train_df.drop(['data_int', 'data_string'], axis=1)\n",
        "val_df = val_df.drop(['data_int', 'data_string'], axis=1)\n",
        "test_df = test_df.drop(['data_int', 'data_string'], axis=1)"
      ],
      "execution_count": null,
      "outputs": []
    },
    {
      "cell_type": "markdown",
      "metadata": {
        "id": "UW_bdLuZUhMs",
        "colab_type": "text"
      },
      "source": [
        "# Pre processing"
      ]
    },
    {
      "cell_type": "code",
      "metadata": {
        "id": "fWdRvI3z7wtC",
        "colab_type": "code",
        "colab": {}
      },
      "source": [
        "all_dfs_concated = pd.DataFrame(pd.concat([train_df,val_df,test_df]))"
      ],
      "execution_count": null,
      "outputs": []
    },
    {
      "cell_type": "code",
      "metadata": {
        "id": "774ODlWId6JY",
        "colab_type": "code",
        "colab": {}
      },
      "source": [
        "sc = MinMaxScaler()\n",
        "all_dfs_concated[all_dfs_concated.columns.values] = sc.fit_transform(all_dfs_concated[all_dfs_concated.columns.values])"
      ],
      "execution_count": null,
      "outputs": []
    },
    {
      "cell_type": "code",
      "metadata": {
        "id": "Jvt2lBvSBwoR",
        "colab_type": "code",
        "colab": {}
      },
      "source": [
        "train_col_num = train_df.shape[0]\n",
        "val_col_num = val_df.shape[0]\n",
        "test_col_num = test_df.shape[0]\n",
        "\n",
        "train_df = pd.DataFrame(all_dfs_concated.iloc[0:train_col_num,:])\n",
        "val_df = pd.DataFrame(all_dfs_concated.iloc[train_col_num:train_col_num+val_col_num,:])\n",
        "test_df = pd.DataFrame(all_dfs_concated.iloc[train_col_num+val_col_num:train_col_num+val_col_num+test_col_num,:])"
      ],
      "execution_count": null,
      "outputs": []
    },
    {
      "cell_type": "markdown",
      "metadata": {
        "id": "7a_Y3goE0y6A",
        "colab_type": "text"
      },
      "source": [
        "## Add target class"
      ]
    },
    {
      "cell_type": "code",
      "metadata": {
        "id": "0Y5myNINVstJ",
        "colab_type": "code",
        "colab": {}
      },
      "source": [
        "train_df['target'] = None\n",
        "for user_num in range(NUM_USERS):\n",
        "  train_df.at[50*user_num:50*(user_num+1), 'target']= user_num"
      ],
      "execution_count": null,
      "outputs": []
    },
    {
      "cell_type": "code",
      "metadata": {
        "id": "6ijTn4e9y9wF",
        "colab_type": "code",
        "colab": {}
      },
      "source": [
        "# shuffle\n",
        "train_df = train_df.sample(frac=1).reset_index(drop=True)"
      ],
      "execution_count": null,
      "outputs": []
    },
    {
      "cell_type": "markdown",
      "metadata": {
        "id": "IJjSXdor03IA",
        "colab_type": "text"
      },
      "source": [
        "## Train test split"
      ]
    },
    {
      "cell_type": "code",
      "metadata": {
        "id": "GCxxsP3bjCAr",
        "colab_type": "code",
        "colab": {}
      },
      "source": [
        "training_set, validation_set = train_test_split(train_df, test_size = 0.1, random_state = 21)\n",
        "#classifying the predictors and target variables as X and Y\n",
        "X_train = training_set.iloc[:,0:-1].values\n",
        "Y_train = (training_set.iloc[:,-1].values).astype(int)\n",
        "X_val = validation_set.iloc[:,0:-1].values\n",
        "y_val = (validation_set.iloc[:,-1].values).astype(int)"
      ],
      "execution_count": null,
      "outputs": []
    },
    {
      "cell_type": "code",
      "metadata": {
        "id": "TGibLoGu45mA",
        "colab_type": "code",
        "colab": {}
      },
      "source": [
        "val_realX = val_df.values\n",
        "test_realX = test_df.values"
      ],
      "execution_count": null,
      "outputs": []
    },
    {
      "cell_type": "markdown",
      "metadata": {
        "id": "89hEU1cw06Nw",
        "colab_type": "text"
      },
      "source": [
        "# Model Training"
      ]
    },
    {
      "cell_type": "code",
      "metadata": {
        "id": "84VdaUprjPS-",
        "colab_type": "code",
        "colab": {}
      },
      "source": [
        "classifier = MLPClassifier(hidden_layer_sizes=(70,),\n",
        "                           learning_rate_init=0.002,\n",
        "                           max_iter=500, \n",
        "                           random_state=1,\n",
        "                           shuffle=True,\n",
        "                           verbose=True)"
      ],
      "execution_count": null,
      "outputs": []
    },
    {
      "cell_type": "code",
      "metadata": {
        "id": "HdXvQyEsju3v",
        "colab_type": "code",
        "colab": {
          "base_uri": "https://localhost:8080/",
          "height": 1000
        },
        "outputId": "afbfc9d2-c39a-4baf-d3c6-e0d37fd04cd6"
      },
      "source": [
        "#Fitting the training data to the network\n",
        "classifier.fit(X_train, Y_train)"
      ],
      "execution_count": null,
      "outputs": [
        {
          "output_type": "stream",
          "text": [
            "Iteration 1, loss = 3.45623979\n",
            "Iteration 2, loss = 2.64608612\n",
            "Iteration 3, loss = 1.83302776\n",
            "Iteration 4, loss = 1.19201629\n",
            "Iteration 5, loss = 0.78395157\n",
            "Iteration 6, loss = 0.54916340\n",
            "Iteration 7, loss = 0.40971823\n",
            "Iteration 8, loss = 0.32230114\n",
            "Iteration 9, loss = 0.26437035\n",
            "Iteration 10, loss = 0.22185964\n",
            "Iteration 11, loss = 0.19133841\n",
            "Iteration 12, loss = 0.16719549\n",
            "Iteration 13, loss = 0.14950371\n",
            "Iteration 14, loss = 0.13345663\n",
            "Iteration 15, loss = 0.12136446\n",
            "Iteration 16, loss = 0.11154287\n",
            "Iteration 17, loss = 0.10182175\n",
            "Iteration 18, loss = 0.09350482\n",
            "Iteration 19, loss = 0.08728840\n",
            "Iteration 20, loss = 0.07988665\n",
            "Iteration 21, loss = 0.07623545\n",
            "Iteration 22, loss = 0.07088373\n",
            "Iteration 23, loss = 0.06603113\n",
            "Iteration 24, loss = 0.06239923\n",
            "Iteration 25, loss = 0.06013484\n",
            "Iteration 26, loss = 0.05915202\n",
            "Iteration 27, loss = 0.05333807\n",
            "Iteration 28, loss = 0.05080224\n",
            "Iteration 29, loss = 0.04818025\n",
            "Iteration 30, loss = 0.04629218\n",
            "Iteration 31, loss = 0.04380563\n",
            "Iteration 32, loss = 0.04355391\n",
            "Iteration 33, loss = 0.03958999\n",
            "Iteration 34, loss = 0.03940531\n",
            "Iteration 35, loss = 0.03710869\n",
            "Iteration 36, loss = 0.03603703\n",
            "Iteration 37, loss = 0.03469275\n",
            "Iteration 38, loss = 0.03331024\n",
            "Iteration 39, loss = 0.03233273\n",
            "Iteration 40, loss = 0.03136086\n",
            "Iteration 41, loss = 0.03053924\n",
            "Iteration 42, loss = 0.02943148\n",
            "Iteration 43, loss = 0.02867728\n",
            "Iteration 44, loss = 0.02767988\n",
            "Iteration 45, loss = 0.02700737\n",
            "Iteration 46, loss = 0.02646240\n",
            "Iteration 47, loss = 0.02565039\n",
            "Iteration 48, loss = 0.02504164\n",
            "Iteration 49, loss = 0.02486127\n",
            "Iteration 50, loss = 0.02418099\n",
            "Iteration 51, loss = 0.02315260\n",
            "Iteration 52, loss = 0.02283394\n",
            "Iteration 53, loss = 0.02297717\n",
            "Iteration 54, loss = 0.02175381\n",
            "Iteration 55, loss = 0.02143263\n",
            "Iteration 56, loss = 0.02103010\n",
            "Iteration 57, loss = 0.02065401\n",
            "Iteration 58, loss = 0.02043537\n",
            "Iteration 59, loss = 0.01989582\n",
            "Iteration 60, loss = 0.01993315\n",
            "Iteration 61, loss = 0.01925734\n",
            "Iteration 62, loss = 0.01970328\n",
            "Iteration 63, loss = 0.01934547\n",
            "Iteration 64, loss = 0.01874968\n",
            "Iteration 65, loss = 0.01820670\n",
            "Iteration 66, loss = 0.01836393\n",
            "Iteration 67, loss = 0.01933656\n",
            "Iteration 68, loss = 0.01774152\n",
            "Iteration 69, loss = 0.01695746\n",
            "Iteration 70, loss = 0.01707592\n",
            "Iteration 71, loss = 0.01747934\n",
            "Iteration 72, loss = 0.01619248\n",
            "Iteration 73, loss = 0.01656525\n",
            "Iteration 74, loss = 0.01625351\n",
            "Iteration 75, loss = 0.01636107\n",
            "Iteration 76, loss = 0.01658394\n",
            "Iteration 77, loss = 0.01560354\n",
            "Iteration 78, loss = 0.01565379\n",
            "Iteration 79, loss = 0.01519402\n",
            "Iteration 80, loss = 0.01496762\n",
            "Iteration 81, loss = 0.01501597\n",
            "Iteration 82, loss = 0.01679687\n",
            "Iteration 83, loss = 0.01470710\n",
            "Iteration 84, loss = 0.01536595\n",
            "Iteration 85, loss = 0.01434437\n",
            "Iteration 86, loss = 0.01406970\n",
            "Iteration 87, loss = 0.01380031\n",
            "Iteration 88, loss = 0.01421274\n",
            "Iteration 89, loss = 0.01377989\n",
            "Iteration 90, loss = 0.01361873\n",
            "Iteration 91, loss = 0.01421839\n",
            "Iteration 92, loss = 0.01468895\n",
            "Iteration 93, loss = 0.01355153\n",
            "Iteration 94, loss = 0.01321598\n",
            "Iteration 95, loss = 0.01310349\n",
            "Iteration 96, loss = 0.01488847\n",
            "Iteration 97, loss = 0.01324010\n",
            "Iteration 98, loss = 0.01354507\n",
            "Iteration 99, loss = 0.01276392\n",
            "Iteration 100, loss = 0.01294806\n",
            "Iteration 101, loss = 0.01297320\n",
            "Iteration 102, loss = 0.01244113\n",
            "Iteration 103, loss = 0.01237738\n",
            "Iteration 104, loss = 0.01269228\n",
            "Iteration 105, loss = 0.01255800\n",
            "Iteration 106, loss = 0.01308806\n",
            "Iteration 107, loss = 0.01311337\n",
            "Iteration 108, loss = 0.01278285\n",
            "Iteration 109, loss = 0.01194612\n",
            "Iteration 110, loss = 0.01225639\n",
            "Iteration 111, loss = 0.01206425\n",
            "Iteration 112, loss = 0.01242928\n",
            "Iteration 113, loss = 0.01152767\n",
            "Iteration 114, loss = 0.01377272\n",
            "Iteration 115, loss = 0.01167973\n",
            "Iteration 116, loss = 0.01237112\n",
            "Iteration 117, loss = 0.01271619\n",
            "Iteration 118, loss = 0.01390533\n",
            "Iteration 119, loss = 0.01322181\n",
            "Iteration 120, loss = 0.01415224\n",
            "Iteration 121, loss = 0.01188596\n",
            "Iteration 122, loss = 0.01185713\n",
            "Iteration 123, loss = 0.01123302\n",
            "Iteration 124, loss = 0.01107262\n",
            "Iteration 125, loss = 0.01148256\n",
            "Iteration 126, loss = 0.01102988\n",
            "Iteration 127, loss = 0.01113696\n",
            "Iteration 128, loss = 0.01106486\n",
            "Iteration 129, loss = 0.01100347\n",
            "Iteration 130, loss = 0.01093826\n",
            "Iteration 131, loss = 0.01086150\n",
            "Iteration 132, loss = 0.01102105\n",
            "Iteration 133, loss = 0.01113456\n",
            "Iteration 134, loss = 0.01109479\n",
            "Iteration 135, loss = 0.01136209\n",
            "Training loss did not improve more than tol=0.000100 for 10 consecutive epochs. Stopping.\n"
          ],
          "name": "stdout"
        },
        {
          "output_type": "execute_result",
          "data": {
            "text/plain": [
              "MLPClassifier(activation='relu', alpha=0.0001, batch_size='auto', beta_1=0.9,\n",
              "              beta_2=0.999, early_stopping=False, epsilon=1e-08,\n",
              "              hidden_layer_sizes=(70,), learning_rate='constant',\n",
              "              learning_rate_init=0.002, max_fun=15000, max_iter=500,\n",
              "              momentum=0.9, n_iter_no_change=10, nesterovs_momentum=True,\n",
              "              power_t=0.5, random_state=1, shuffle=True, solver='adam',\n",
              "              tol=0.0001, validation_fraction=0.1, verbose=True,\n",
              "              warm_start=False)"
            ]
          },
          "metadata": {
            "tags": []
          },
          "execution_count": 235
        }
      ]
    },
    {
      "cell_type": "markdown",
      "metadata": {
        "id": "21lWY-ZU0-v1",
        "colab_type": "text"
      },
      "source": [
        "## Measure accuracy on validatin set (not real validation data from file)"
      ]
    },
    {
      "cell_type": "code",
      "metadata": {
        "id": "bdnXe8vJj2kC",
        "colab_type": "code",
        "colab": {}
      },
      "source": [
        "#Predicting y for X_val\n",
        "y_pred = classifier.predict(X_val) "
      ],
      "execution_count": null,
      "outputs": []
    },
    {
      "cell_type": "code",
      "metadata": {
        "id": "OQPjlHhGlvHQ",
        "colab_type": "code",
        "colab": {}
      },
      "source": [
        "#Importing Confusion Matrix\n",
        "from sklearn.metrics import confusion_matrix\n",
        "#Comparing the predictions against the actual observations in y_val\n",
        "cm = confusion_matrix(y_pred, y_val)"
      ],
      "execution_count": null,
      "outputs": []
    },
    {
      "cell_type": "code",
      "metadata": {
        "id": "_QlRs_Nolx0V",
        "colab_type": "code",
        "colab": {}
      },
      "source": [
        "def accuracy(confusion_matrix):\n",
        "   diagonal_sum = confusion_matrix.trace()\n",
        "   sum_of_all_elements = confusion_matrix.sum()\n",
        "   return diagonal_sum / sum_of_all_elements"
      ],
      "execution_count": null,
      "outputs": []
    },
    {
      "cell_type": "code",
      "metadata": {
        "id": "bpbgNIX_lyNX",
        "colab_type": "code",
        "colab": {
          "base_uri": "https://localhost:8080/",
          "height": 34
        },
        "outputId": "07b1cf56-34c0-4255-cb85-1786187a07f3"
      },
      "source": [
        "#Printing the accuracy\n",
        "print(\"Accuracy of MLPClassifier : \", accuracy(cm))"
      ],
      "execution_count": null,
      "outputs": [
        {
          "output_type": "stream",
          "text": [
            "Accuracy of MLPClassifier :  0.89\n"
          ],
          "name": "stdout"
        }
      ]
    },
    {
      "cell_type": "markdown",
      "metadata": {
        "id": "9ggm1v_L1FL2",
        "colab_type": "text"
      },
      "source": [
        "# Predict"
      ]
    },
    {
      "cell_type": "markdown",
      "metadata": {
        "id": "ExqajPk11e3E",
        "colab_type": "text"
      },
      "source": [
        "## Predict and calculate challenge validation"
      ]
    },
    {
      "cell_type": "code",
      "metadata": {
        "id": "SA-YW_FEOx4s",
        "colab_type": "code",
        "colab": {}
      },
      "source": [
        "val_col_indexes = np.arange(NUM_OF_TRAIN_SEQUENCE_PER_USER + 1,\n",
        "                            NUM_OF_TRAIN_SEQUENCE_PER_USER + 1 + NUM_OF_TEST_SEQUENCE_PER_USER)\n",
        "val_df_true = pd.read_csv('/content/drive/Shared drives/Methods for Detecting Attacks/challengeToFill.csv', usecols=val_col_indexes)\n",
        "cols = val_df_true.columns\n",
        "val_df_true = val_df_true.loc[:9, :].astype(int)"
      ],
      "execution_count": null,
      "outputs": []
    },
    {
      "cell_type": "code",
      "metadata": {
        "id": "lksrzi2T1YcM",
        "colab_type": "code",
        "colab": {}
      },
      "source": [
        "def predict_final_results(X_check, check_type):\n",
        "  val_df_preds = []\n",
        "  for user_num in range(X_check.shape[0]//100):\n",
        "    curr_user_pred = classifier.predict(X_check[user_num*100:(user_num+1)*100])\n",
        "    curr_user_pred_prob = classifier.predict_proba(X_check[user_num*100:(user_num+1)*100])\n",
        "    user_number = user_num \n",
        "    if check_type == 'test':\n",
        "      user_number += 10\n",
        "    curr_user_pred = np.where(curr_user_pred != user_number, True, False)\n",
        "    val_df_pred = pd.DataFrame([curr_user_pred], dtype=int, columns=cols)\n",
        "    idx_obj = pd.Index(val_df_pred.to_numpy().flatten().tolist())\n",
        "    idx_df = pd.DataFrame(val_df_pred.to_numpy().flatten().tolist())\n",
        "    ones_indices = idx_df.index[idx_df[0]==1]\n",
        "    ones_idx = idx_obj.get_loc(1)\n",
        "    ones_prob = curr_user_pred_prob[ones_idx]\n",
        "    sorted_prob = -np.sort(-ones_prob, axis=1)\n",
        "    ones_best_prob = [arr[0] for arr in sorted_prob]\n",
        "    best_probs = sorted(ones_best_prob, reverse=True)[:30]\n",
        "    scaled_user_pred = np.array(curr_user_pred)\n",
        "    for i, idx in enumerate(ones_indices.values):\n",
        "      if curr_user_pred[idx] == True and sorted_prob[i,0] not in best_probs:\n",
        "        scaled_user_pred[idx] = False\n",
        "    scaled_user_pred_df = pd.DataFrame([scaled_user_pred], dtype=int, columns=cols)\n",
        "    val_df_preds.append(scaled_user_pred_df)\n",
        "  return val_df_preds"
      ],
      "execution_count": null,
      "outputs": []
    },
    {
      "cell_type": "code",
      "metadata": {
        "id": "W45IRKNhvTjc",
        "colab_type": "code",
        "colab": {}
      },
      "source": [
        "val_df_preds = predict_final_results(val_realX, 'val')"
      ],
      "execution_count": null,
      "outputs": []
    },
    {
      "cell_type": "code",
      "metadata": {
        "id": "0z2WltrPCpjH",
        "colab_type": "code",
        "colab": {}
      },
      "source": [
        "def val_score(val_df_pred, val_df_true):\n",
        "  num_of_correct_ones = (val_df_pred.mul(val_df_true)).values.sum()\n",
        "  num_of_correct_zeros = (val_df_pred.replace({0:1, 1:0}).mul(val_df_true.replace({0:1, 1:0}))).values.sum()\n",
        "  print(f'num of correct ones: {num_of_correct_ones}/{10}, num of correct zeros: {num_of_correct_zeros}/{90}')\n",
        "  print(f'Our Score: {9*num_of_correct_ones}+{num_of_correct_zeros}={9*num_of_correct_ones+num_of_correct_zeros}')\n",
        "  print(f'Max Score: {9*10}+{1*90}={90+90}')\n",
        "  return 9*num_of_correct_ones+num_of_correct_zeros"
      ],
      "execution_count": null,
      "outputs": []
    },
    {
      "cell_type": "code",
      "metadata": {
        "id": "ERDpc6y3DEjA",
        "colab_type": "code",
        "colab": {
          "base_uri": "https://localhost:8080/",
          "height": 722
        },
        "outputId": "4481b346-d5c8-4bf7-a7a4-852ed66e3d33"
      },
      "source": [
        "total_score = 0\n",
        "for user, val_df_pred in enumerate(val_df_preds):\n",
        "  print('User'+str(user))\n",
        "  total_score += val_score(val_df_pred, val_df_true.loc[user, :])\n",
        "print(\"Total Score: \" + str(total_score))\n",
        "print(\"Max Total Score: \" + str(len(val_df_preds)*180))"
      ],
      "execution_count": null,
      "outputs": [
        {
          "output_type": "stream",
          "text": [
            "User0\n",
            "num of correct ones: 10/10, num of correct zeros: 76/90\n",
            "Our Score: 90+76=166\n",
            "Max Score: 90+90=180\n",
            "User1\n",
            "num of correct ones: 10/10, num of correct zeros: 70/90\n",
            "Our Score: 90+70=160\n",
            "Max Score: 90+90=180\n",
            "User2\n",
            "num of correct ones: 10/10, num of correct zeros: 78/90\n",
            "Our Score: 90+78=168\n",
            "Max Score: 90+90=180\n",
            "User3\n",
            "num of correct ones: 10/10, num of correct zeros: 70/90\n",
            "Our Score: 90+70=160\n",
            "Max Score: 90+90=180\n",
            "User4\n",
            "num of correct ones: 10/10, num of correct zeros: 78/90\n",
            "Our Score: 90+78=168\n",
            "Max Score: 90+90=180\n",
            "User5\n",
            "num of correct ones: 9/10, num of correct zeros: 69/90\n",
            "Our Score: 81+69=150\n",
            "Max Score: 90+90=180\n",
            "User6\n",
            "num of correct ones: 10/10, num of correct zeros: 85/90\n",
            "Our Score: 90+85=175\n",
            "Max Score: 90+90=180\n",
            "User7\n",
            "num of correct ones: 5/10, num of correct zeros: 65/90\n",
            "Our Score: 45+65=110\n",
            "Max Score: 90+90=180\n",
            "User8\n",
            "num of correct ones: 10/10, num of correct zeros: 70/90\n",
            "Our Score: 90+70=160\n",
            "Max Score: 90+90=180\n",
            "User9\n",
            "num of correct ones: 10/10, num of correct zeros: 70/90\n",
            "Our Score: 90+70=160\n",
            "Max Score: 90+90=180\n",
            "Total Score: 1577\n",
            "Max Total Score: 1800\n"
          ],
          "name": "stdout"
        }
      ]
    },
    {
      "cell_type": "markdown",
      "metadata": {
        "id": "XX71bbgk1ZmT",
        "colab_type": "text"
      },
      "source": [
        "## Predict test set"
      ]
    },
    {
      "cell_type": "code",
      "metadata": {
        "id": "mbdKht1QDEdO",
        "colab_type": "code",
        "colab": {}
      },
      "source": [
        "test_df_preds = predict_final_results(test_realX, 'test')\n",
        "results_df = pd.concat(test_df_preds , ignore_index=True)"
      ],
      "execution_count": null,
      "outputs": []
    },
    {
      "cell_type": "code",
      "metadata": {
        "id": "1RiCAZ_DzP5n",
        "colab_type": "code",
        "colab": {}
      },
      "source": [
        "results_df.to_csv('test_results.csv', mode='w', header=True)"
      ],
      "execution_count": null,
      "outputs": []
    }
  ]
}